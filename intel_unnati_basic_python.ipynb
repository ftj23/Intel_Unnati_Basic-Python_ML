{
  "nbformat": 4,
  "nbformat_minor": 0,
  "metadata": {
    "colab": {
      "provenance": [],
      "authorship_tag": "ABX9TyNpWbJEXmL5gaeuy6gKpajd",
      "include_colab_link": true
    },
    "kernelspec": {
      "name": "python3",
      "display_name": "Python 3"
    },
    "language_info": {
      "name": "python"
    }
  },
  "cells": [
    {
      "cell_type": "markdown",
      "metadata": {
        "id": "view-in-github",
        "colab_type": "text"
      },
      "source": [
        "<a href=\"https://colab.research.google.com/github/ftj23/Intel_Unnati_Basic-Python_ML/blob/main/intel_unnati_basic_python.ipynb\" target=\"_parent\"><img src=\"https://colab.research.google.com/assets/colab-badge.svg\" alt=\"Open In Colab\"/></a>"
      ]
    },
    {
      "cell_type": "markdown",
      "source": [
        "Intel Unnati <br><h1> `Python programming`<h1> First progarm : <i><b>Display a sample text<i><b>"
      ],
      "metadata": {
        "id": "M3Z8VVU67Ljo"
      }
    },
    {
      "cell_type": "code",
      "source": [
        "print(\"hello world\")"
      ],
      "metadata": {
        "colab": {
          "base_uri": "https://localhost:8080/"
        },
        "id": "VvUYsRuc86DJ",
        "outputId": "79b5b491-83ec-440b-b07e-f8bd0c6bf8a4"
      },
      "execution_count": 7,
      "outputs": [
        {
          "output_type": "stream",
          "name": "stdout",
          "text": [
            "hello world\n"
          ]
        }
      ]
    },
    {
      "cell_type": "code",
      "source": [
        "a=10\n",
        "print(\"Value of the variable is\",a)"
      ],
      "metadata": {
        "colab": {
          "base_uri": "https://localhost:8080/"
        },
        "id": "tnD1G8E989Fx",
        "outputId": "9931dd95-c924-484c-b198-a5a012ccd10f"
      },
      "execution_count": 10,
      "outputs": [
        {
          "output_type": "stream",
          "name": "stdout",
          "text": [
            "Value of the variable is 10\n"
          ]
        }
      ]
    },
    {
      "cell_type": "markdown",
      "source": [
        "><h1>Program to find the sum of two numbers</h1>"
      ],
      "metadata": {
        "id": "O-dbrmb79PnR"
      }
    },
    {
      "cell_type": "code",
      "source": [
        "a=19\n",
        "b=19\n",
        "c=a+b\n",
        "print(\"sum =\",c)"
      ],
      "metadata": {
        "colab": {
          "base_uri": "https://localhost:8080/"
        },
        "id": "ydcSkf1Z9bmb",
        "outputId": "8661f113-3398-4275-ce73-f521d838efed"
      },
      "execution_count": 22,
      "outputs": [
        {
          "output_type": "stream",
          "name": "stdout",
          "text": [
            "sum = 38\n"
          ]
        }
      ]
    },
    {
      "cell_type": "markdown",
      "source": [
        "Read two numbers and print their sum"
      ],
      "metadata": {
        "id": "mVNz1Lm--DRy"
      }
    },
    {
      "cell_type": "code",
      "source": [
        "a=float(input(\"enter a number : \"))\n",
        "b=float(input(\"Enter the next number : \"))\n",
        "c=a+b\n",
        "print(\"Sum :\",c)"
      ],
      "metadata": {
        "colab": {
          "base_uri": "https://localhost:8080/"
        },
        "id": "nDvWSagI-a5V",
        "outputId": "c1b6c01b-6b9b-4413-f28a-89c9ef7788de"
      },
      "execution_count": 21,
      "outputs": [
        {
          "output_type": "stream",
          "name": "stdout",
          "text": [
            "enter a number : 123.412\n",
            "Enter the next number : 352.521\n",
            "Sum : 475.933\n"
          ]
        }
      ]
    }
  ]
}